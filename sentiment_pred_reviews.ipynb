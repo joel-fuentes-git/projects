{
 "cells": [
  {
   "cell_type": "markdown",
   "metadata": {},
   "source": [
    "### Case Study: Predicting Product Ratings Based on Review Text\n",
    "\n",
    "#### Description\n",
    "An e-commerce company wants to predict product ratings based on customer review text to identify potential issues and improve products.\n",
    "\n",
    "#### Approach\n",
    "\n",
    "* Data Generation:\n",
    "Created synthetic product reviews with associated ratings.\n",
    "Simulated a range of sentiments from positive to negative.\n",
    "\n",
    "* Sentiment Analysis:\n",
    "Calculated sentiment scores using TextBlob.\n",
    "Mapped sentiment polarity to numerical ratings.\n",
    "\n",
    "* Model Training:\n",
    "Implemented a Linear Regression model to predict ratings.\n",
    "Explored the relationship between text sentiment and assigned ratings.\n",
    "\n",
    "* Evaluation:\n",
    "Assessed model performance using Mean Squared Error (MSE) and R-squared metrics.\n",
    "Plotted actual vs. predicted ratings.\n"
   ]
  },
  {
   "cell_type": "code",
   "execution_count": 1,
   "metadata": {},
   "outputs": [],
   "source": [
    "import warnings\n",
    "warnings.filterwarnings('ignore')\n",
    "import pandas as pd\n",
    "import numpy as np\n",
    "from textblob import TextBlob\n",
    "from sklearn.linear_model import LinearRegression\n",
    "from sklearn.model_selection import train_test_split\n",
    "from sklearn.metrics import mean_squared_error, r2_score\n",
    "\n",
    "# Step 1: Data Generation\n",
    "reviews = [\n",
    "    \"This product exceeded my expectations. Highly recommend!\",\n",
    "    \"Not satisfied with the quality. It broke after one use.\",\n",
    "    \"Decent value for the price. Could be better.\",\n",
    "    \"Absolutely love it! Will buy again.\",\n",
    "    \"Terrible experience. Customer service was unhelpful.\",\n",
    "    \"Works as advertised. No complaints.\",\n",
    "    \"I'm very happy with this purchase.\",\n",
    "    \"It's okay, but there are better options available.\",\n",
    "    \"Fantastic quality and fast shipping.\",\n",
    "    \"The item arrived damaged and late.\"\n",
    "]\n",
    "\n",
    "# Generate synthetic dataset\n",
    "np.random.seed(42)\n",
    "num_reviews = 200\n",
    "data = pd.DataFrame({\n",
    "    'review_text': np.random.choice(reviews, num_reviews),\n",
    "})\n",
    "\n",
    "# Assign synthetic ratings based on review text\n",
    "def assign_rating(text):\n",
    "    blob = TextBlob(text)\n",
    "    polarity = blob.sentiment.polarity\n",
    "    # Map polarity to rating between 1 and 5\n",
    "    rating = int((polarity + 1) * 2) + 1\n",
    "    return max(1, min(5, rating))\n",
    "\n",
    "data['rating'] = data['review_text'].apply(assign_rating)"
   ]
  },
  {
   "cell_type": "code",
   "execution_count": 2,
   "metadata": {},
   "outputs": [
    {
     "name": "stdout",
     "output_type": "stream",
     "text": [
      "MSE: 0.08\n",
      "R-squared: 0.92\n"
     ]
    },
    {
     "data": {
      "image/png": "[encoded data removed]",
      "text/plain": [
       "<Figure size 640x480 with 1 Axes>"
      ]
     },
     "metadata": {},
     "output_type": "display_data"
    }
   ],
   "source": [
    "# Step 2: Sentiment Analysis\n",
    "data['sentiment'] = data['review_text'].apply(lambda x: TextBlob(x).sentiment.polarity)\n",
    "\n",
    "# Step 3: Model Training\n",
    "X = data[['sentiment']]\n",
    "y = data['rating']\n",
    "\n",
    "X_train, X_test, y_train, y_test = train_test_split(X, y, test_size=0.2, random_state=42)\n",
    "\n",
    "model = LinearRegression()\n",
    "model.fit(X_train, y_train)\n",
    "\n",
    "# Step 4: Evaluation\n",
    "y_pred = model.predict(X_test)\n",
    "mse = mean_squared_error(y_test, y_pred)\n",
    "r_squared = r2_score(y_test, y_pred)\n",
    "print(f\"MSE: {mse:.2f}\")\n",
    "print(f\"R-squared: {r_squared:.2f}\")\n",
    "\n",
    "# Plotting actual vs predicted ratings\n",
    "import matplotlib.pyplot as plt\n",
    "plt.scatter(y_test, y_pred)\n",
    "plt.xlabel('Actual Ratings')\n",
    "plt.ylabel('Predicted Ratings')\n",
    "plt.title('Actual vs Predicted Ratings')\n",
    "plt.show()\n"
   ]
  },
  {
   "cell_type": "markdown",
   "metadata": {},
   "source": [
    "### Interpretation\n",
    "* Mean Squared Error (MSE): Approximately 0.08\n",
    "\n",
    "* R-squared: Approximately 0.92\n",
    "\n",
    "As expected, the linear regression model on the synthetic dataset showed a strong correlation between sentiment polarity and product ratings. The scatter plot of actual vs. predicted ratings indicated good predictive performance.\n",
    "\n",
    "### Recommended Next Steps\n",
    "* Data Expansion: Use a larger dataset with more varied reviews to improve model robustness.\n",
    "\n",
    "* Advanced Models: Explore regression models that handle non-linear relationships or use classification models for predicting rating categories.\n",
    "\n",
    "* Text Embeddings: Utilize word embeddings or transformer-based models (e.g., BERT) for capturing deeper semantic information.\n",
    "\n",
    "* Multilingual Support: Extend the model to handle reviews in multiple languages.\n",
    "\n",
    "* Feedback Loop: Integrate the model into the review system to flag low-rated products for quality checks."
   ]
  },
  {
   "cell_type": "code",
   "execution_count": null,
   "metadata": {},
   "outputs": [],
   "source": []
  }
 ],
 "metadata": {
  "kernelspec": {
   "display_name": "base",
   "language": "python",
   "name": "python3"
  },
  "language_info": {
   "codemirror_mode": {
    "name": "ipython",
    "version": 3
   },
   "file_extension": ".py",
   "mimetype": "text/x-python",
   "name": "python",
   "nbconvert_exporter": "python",
   "pygments_lexer": "ipython3",
   "version": "3.11.5"
  }
 },
 "nbformat": 4,
 "nbformat_minor": 2
}
