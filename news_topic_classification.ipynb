{
 "cells": [
  {
   "cell_type": "markdown",
   "metadata": {},
   "source": [
    "#### LLM Example: News Topic Classification Using Hugging Face\n",
    "\n",
    "News topic classification is an essential task in Natural Language Processing, helping in categorizing news articles into predefined topics such as Politics, Sports, Technology, etc. \n",
    "\n",
    "This case study demonstrates how to classify news headlines into topics using a pre-trained model from Hugging Face’s Transformers library."
   ]
  },
  {
   "cell_type": "code",
   "execution_count": 9,
   "metadata": {},
   "outputs": [
    {
     "data": {
      "application/vnd.jupyter.widget-view+json": {
       "model_id": "7a99f914c7ce4641bf067815f96cf858",
       "version_major": 2,
       "version_minor": 0
      },
      "text/plain": [
       "config.json:   0%|          | 0.00/1.15k [00:00<?, ?B/s]"
      ]
     },
     "metadata": {},
     "output_type": "display_data"
    },
    {
     "data": {
      "application/vnd.jupyter.widget-view+json": {
       "model_id": "36b6fdc6891f48f5b5d385330ba601fd",
       "version_major": 2,
       "version_minor": 0
      },
      "text/plain": [
       "model.safetensors:   0%|          | 0.00/1.63G [00:00<?, ?B/s]"
      ]
     },
     "metadata": {},
     "output_type": "display_data"
    },
    {
     "data": {
      "application/vnd.jupyter.widget-view+json": {
       "model_id": "ef4a3ce9c1fe49de842488764fecc411",
       "version_major": 2,
       "version_minor": 0
      },
      "text/plain": [
       "tokenizer_config.json:   0%|          | 0.00/26.0 [00:00<?, ?B/s]"
      ]
     },
     "metadata": {},
     "output_type": "display_data"
    },
    {
     "data": {
      "application/vnd.jupyter.widget-view+json": {
       "model_id": "00a4d83202bf400eb5a256a22b3c572f",
       "version_major": 2,
       "version_minor": 0
      },
      "text/plain": [
       "vocab.json:   0%|          | 0.00/899k [00:00<?, ?B/s]"
      ]
     },
     "metadata": {},
     "output_type": "display_data"
    },
    {
     "data": {
      "application/vnd.jupyter.widget-view+json": {
       "model_id": "b4c7bd390f854492820a39c66d18452a",
       "version_major": 2,
       "version_minor": 0
      },
      "text/plain": [
       "merges.txt:   0%|          | 0.00/456k [00:00<?, ?B/s]"
      ]
     },
     "metadata": {},
     "output_type": "display_data"
    },
    {
     "data": {
      "application/vnd.jupyter.widget-view+json": {
       "model_id": "addbbfd022b046b2b25e11f86ccfbec8",
       "version_major": 2,
       "version_minor": 0
      },
      "text/plain": [
       "tokenizer.json:   0%|          | 0.00/1.36M [00:00<?, ?B/s]"
      ]
     },
     "metadata": {},
     "output_type": "display_data"
    },
    {
     "name": "stderr",
     "output_type": "stream",
     "text": [
      "Hardware accelerator e.g. GPU is available in the environment, but no `device` argument is passed to the `Pipeline` object. Model will be on CPU.\n"
     ]
    },
    {
     "name": "stdout",
     "output_type": "stream",
     "text": [
      "                                            headline       topic\n",
      "0  The government announces a new policy on clima...    Politics\n",
      "1     The local football team wins the championship.      Sports\n",
      "2   Tech giants release their latest AI innovations.  Technology\n",
      "3  The stock market sees a significant drop in tr...     Finance\n"
     ]
    }
   ],
   "source": [
    "# Install required libraries\n",
    "# !pip install transformers datasets torch pandas\n",
    "\n",
    "from transformers import pipeline\n",
    "import pandas as pd\n",
    "import warnings\n",
    "warnings.filterwarnings('ignore')\n",
    "\n",
    "# Example dataset (news headlines)\n",
    "data = {\n",
    "    \"headline\": [\n",
    "        \"The government announces a new policy on climate change.\",\n",
    "        \"The local football team wins the championship.\",\n",
    "        \"Tech giants release their latest AI innovations.\",\n",
    "        \"The stock market sees a significant drop in trading today.\",\n",
    "    ]\n",
    "}\n",
    "\n",
    "# Convert to a DataFrame\n",
    "df = pd.DataFrame(data)\n",
    "\n",
    "# Load a pre-trained text classification pipeline from Hugging Face\n",
    "classifier = pipeline(\"zero-shot-classification\", model=\"facebook/bart-large-mnli\")\n",
    "\n",
    "# Define candidate labels for classification\n",
    "candidate_labels = [\"Politics\", \"Sports\", \"Technology\", \"Finance\"]\n",
    "\n",
    "# Apply classification to each headline\n",
    "df[\"topic\"] = df[\"headline\"].apply(\n",
    "    lambda x: classifier(x, candidate_labels)[\"labels\"][0]\n",
    ")\n",
    "\n",
    "# Display results\n",
    "print(df)"
   ]
  },
  {
   "cell_type": "markdown",
   "metadata": {},
   "source": [
    "#### Recommended Next Steps\n",
    "\n",
    "1. Expand Dataset:\n",
    "\t* Use a larger dataset with more diverse headlines.\n",
    "\n",
    "2. Deploy the Model:\n",
    "\t* Integrate the classification system into a web or mobile application for real-time news categorization.\n",
    "3. Add More Topics:\n",
    "\t* Expand the list of candidate labels to cover more domains like Entertainment, Science, or Health.\n",
    "\n",
    "This implementation highlights how Hugging Face’s zero-shot-classification pipeline can be effectively used for rapid prototyping in topic classification tasks."
   ]
  }
 ],
 "metadata": {
  "kernelspec": {
   "display_name": "base",
   "language": "python",
   "name": "python3"
  },
  "language_info": {
   "codemirror_mode": {
    "name": "ipython",
    "version": 3
   },
   "file_extension": ".py",
   "mimetype": "text/x-python",
   "name": "python",
   "nbconvert_exporter": "python",
   "pygments_lexer": "ipython3",
   "version": "3.11.5"
  }
 },
 "nbformat": 4,
 "nbformat_minor": 2
}
